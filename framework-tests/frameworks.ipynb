{
 "cells": [
  {
   "cell_type": "code",
   "execution_count": 9,
   "metadata": {},
   "outputs": [
    {
     "name": "stdout",
     "output_type": "stream",
     "text": [
      "0 , 1 , AROMATIC , True , 0\n",
      "1 , 2 , AROMATIC , True , 1\n",
      "2 , 3 , AROMATIC , True , 2\n",
      "3 , 4 , AROMATIC , True , 3\n",
      "4 , 5 , AROMATIC , True , 4\n",
      "5 , 6 , SINGLE , False , 5\n",
      "6 , 7 , DOUBLE , False , 6\n",
      "7 , 8 , SINGLE , False , 7\n",
      "8 , 9 , DOUBLE , False , 8\n",
      "9 , 10 , SINGLE , False , 9\n",
      "10 , 11 , AROMATIC , True , 10\n",
      "11 , 12 , AROMATIC , True , 11\n",
      "12 , 13 , AROMATIC , True , 12\n",
      "13 , 14 , AROMATIC , True , 13\n",
      "14 , 15 , AROMATIC , True , 14\n",
      "5 , 0 , AROMATIC , True , 15\n",
      "15 , 10 , AROMATIC , True , 16\n",
      "0 , 3\n",
      "1 , 3\n",
      "2 , 3\n",
      "3 , 3\n",
      "4 , 3\n",
      "5 , 4\n",
      "6 , 3\n",
      "7 , 3\n",
      "8 , 3\n",
      "9 , 3\n",
      "10 , 4\n",
      "11 , 3\n",
      "12 , 3\n",
      "13 , 3\n",
      "14 , 3\n",
      "15 , 3\n"
     ]
    }
   ],
   "source": [
    "# import RDKit ----------------------------------------------------------------\n",
    "from rdkit import Chem\n",
    "from rdkit.Chem import Draw\n",
    "\n",
    "# define the smiles string and covert it into a molecule sturcture ------------\n",
    "caffeine_smiles = 'CN1C=NC2=C1C(=O)N(C(=O)N2C)C'\n",
    "#test_smiles = 'C-C=C-C=C'\n",
    "test_smiles = 'C1=CC=CC=C1C=CC=CC2=CC=CC=C2' #similar to the one directly below\n",
    "#test_smiles = 'c1ccccc1C=CC=Cc2ccccc2'\n",
    "\n",
    "#mol = Chem.MolFromSmiles(caffeine_smiles)\n",
    "mol = Chem.MolFromSmiles(test_smiles)\n",
    "\n",
    "# draw the modecule -----------------------------------------------------------\n",
    "#Draw.MolToFile(mol, 'caffeine.png')\n",
    "Draw.MolToFile(mol, 'molecule.png')\n",
    "for bond in mol.GetBonds():\n",
    "    print(bond.GetBeginAtomIdx(),',',\n",
    "          bond.GetEndAtomIdx(),',',\n",
    "          bond.GetBondType(),',',\n",
    "          bond.IsInRing(), ',',\n",
    "          bond.GetIdx())\n",
    "\n",
    "#print(mol.GetSubstructMatches(Chem.MolFromSmarts('c')))\n",
    "for atom in mol.GetAtoms():\n",
    "    print(atom.GetIdx(),',', atom.GetExplicitValence())\n",
    "\n",
    "# draw the molecule with property ---------------------------------------------\n",
    "for i, atom in enumerate(mol.GetAtoms()):\n",
    "    atom.SetProp(\"molAtomMapNumber\", str(atom.GetIdx()))\n",
    "    \n",
    "Draw.MolToFile(mol, 'molecule_with_prop.png')"
   ]
  },
  {
   "cell_type": "code",
   "execution_count": 2,
   "metadata": {},
   "outputs": [
    {
     "name": "stdout",
     "output_type": "stream",
     "text": [
      "{0: (-3.592284624956486, -0.02152199965896514), 1: (-5.029198474939081, -0.03013079952255119), 2: (-6.120427368828454, -0.009547121511651647), 3: (-5.774742412735234, 0.019645356362833957), 4: (-4.337828562752639, 0.02825415622642001), 5: (-3.246599668863265, 0.007670478215520458), 6: (-1.8096858188806708, 0.016279278079106518), 7: (-0.7184569249912974, -0.004304399931793035), 8: (0.7184569249912971, 0.004304399931793016), 9: (1.8096858188806708, -0.01627927807910653), 10: (3.246599668863265, -0.007670478215520475), 11: (4.337828562752641, -0.02825415622642002), 12: (5.774742412735234, -0.019645356362833974), 13: (6.120427368828455, 0.009547121511651638), 14: (5.02919847493908, 0.030130799522551197), 15: (3.5922846249564864, 0.021521999658965122)}\n",
      "[[0. 1. 0. 0. 0. 0. 0. 0. 0. 0. 0. 0. 0. 0. 0. 0.]\n",
      " [1. 0. 1. 0. 0. 0. 0. 0. 0. 0. 0. 0. 0. 0. 0. 0.]\n",
      " [0. 0. 0. 1. 0. 0. 0. 0. 0. 0. 0. 0. 0. 0. 0. 0.]\n",
      " [0. 0. 1. 0. 1. 0. 0. 0. 0. 0. 0. 0. 0. 0. 0. 0.]\n",
      " [0. 0. 0. 0. 0. 1. 0. 0. 0. 0. 0. 0. 0. 0. 0. 0.]\n",
      " [1. 0. 0. 0. 1. 0. 1. 0. 0. 0. 0. 0. 0. 0. 0. 0.]\n",
      " [0. 0. 0. 0. 0. 0. 0. 1. 0. 0. 0. 0. 0. 0. 0. 0.]\n",
      " [0. 0. 0. 0. 0. 0. 1. 0. 1. 0. 0. 0. 0. 0. 0. 0.]\n",
      " [0. 0. 0. 0. 0. 0. 0. 0. 0. 1. 0. 0. 0. 0. 0. 0.]\n",
      " [0. 0. 0. 0. 0. 0. 0. 0. 1. 0. 1. 0. 0. 0. 0. 0.]\n",
      " [0. 0. 0. 0. 0. 0. 0. 0. 0. 0. 0. 1. 0. 0. 0. 1.]\n",
      " [0. 0. 0. 0. 0. 0. 0. 0. 0. 0. 0. 0. 1. 0. 0. 0.]\n",
      " [0. 0. 0. 0. 0. 0. 0. 0. 0. 0. 0. 1. 0. 1. 0. 0.]\n",
      " [0. 0. 0. 0. 0. 0. 0. 0. 0. 0. 0. 0. 0. 0. 1. 0.]\n",
      " [0. 0. 0. 0. 0. 0. 0. 0. 0. 0. 0. 0. 0. 1. 0. 1.]\n",
      " [0. 0. 0. 0. 0. 0. 0. 0. 0. 0. 1. 0. 0. 0. 0. 0.]]\n"
     ]
    },
    {
     "data": {
      "image/png": "[encoded data removed]",
      "text/plain": [
       "<Figure size 432x288 with 1 Axes>"
      ]
     },
     "metadata": {},
     "output_type": "display_data"
    }
   ],
   "source": [
    "# import library --------------------------------------------------------------\n",
    "from rdkit import Chem\n",
    "from rdkit.Chem import AllChem\n",
    "import networkx as nx\n",
    "import matplotlib.pyplot as plt\n",
    "from rdkit.Chem.Draw import IPythonConsole\n",
    "import itertools\n",
    "\n",
    "def GetRingSystems(mol):\n",
    "    ri = mol.GetRingInfo()\n",
    "    systems = []\n",
    "    for ring in ri.AtomRings():\n",
    "        ringAts = []\n",
    "        for atom in ring:\n",
    "            ringAts.append(atom)\n",
    "        systems.append(ringAts)\n",
    "    return systems\n",
    "\n",
    "def getRingForAtom(rings, atomId):\n",
    "    for ring in rings:\n",
    "        if atomId in ring:\n",
    "            return ring\n",
    "\n",
    "# define the smiles string and covert it into a molecule sturcture ------------\n",
    "#caffeine_smiles = 'CN1C=NC2=C1C(=O)N(C(=O)N2C)C'\n",
    "smiles = 'c1ccccc1C=CC=Cc2ccccc2'\n",
    "mol = Chem.MolFromSmiles(smiles)\n",
    "\n",
    "# define the function for coverting rdkit object to networkx object -----------     \n",
    "def mol_to_nx(mol):\n",
    "    G = nx.DiGraph()\n",
    "    AllChem.Compute2DCoords(mol)\n",
    "    rings = GetRingSystems(mol)\n",
    "    aromAtoms = set()\n",
    "\n",
    "    for atom in mol.GetAtoms():\n",
    "        pos = mol.GetConformer().GetAtomPosition(atom.GetIdx())\n",
    "        xCoord = pos.x\n",
    "        yCoord = pos.y * 0.02\n",
    "        G.add_node(atom.GetIdx(),\n",
    "                   atomic_num=atom.GetAtomicNum(),\n",
    "                   is_aromatic=atom.GetIsAromatic(),\n",
    "                   atom_symbol=atom.GetSymbol(),\n",
    "                   pos = (xCoord,yCoord))\n",
    "        \n",
    "    for bond in mol.GetBonds():\n",
    "        G.add_edge(bond.GetBeginAtomIdx(),\n",
    "                   bond.GetEndAtomIdx(),\n",
    "                   bond_type=bond.GetBondType())\n",
    "        #if its a double bond add a second edge (in other direction)\n",
    "        if (bond.GetBondType() == Chem.BondType.DOUBLE):\n",
    "            G.add_edge(bond.GetEndAtomIdx(),\n",
    "                        bond.GetBeginAtomIdx(),\n",
    "                        bond_type=bond.GetBondType())\n",
    "        #in aromatic rings every second edge is a double bond\n",
    "        #if it is aromatic get corresponding ring and add every second atom from that ring to set (aromAtoms)\n",
    "        if (bond.GetBondType() == Chem.BondType.AROMATIC):\n",
    "            ring = getRingForAtom(rings, bond.GetBeginAtomIdx())\n",
    "            if (ring != None):\n",
    "                for i in range(0, len(ring), 2):\n",
    "                    aromAtoms.add(ring[i])\n",
    "                rings.remove(ring)\n",
    "        #if beginning atom of bond is in aromAtoms add a second edge (in other direction)\n",
    "        if (bond.GetBeginAtomIdx() in aromAtoms):\n",
    "            G.add_edge(bond.GetEndAtomIdx(),\n",
    "                        bond.GetBeginAtomIdx(),\n",
    "                        bond_type=bond.GetBondType())\n",
    "    return G\n",
    "\n",
    "# convert rdkit object to networkx object --------------------------------------\n",
    "molecule_nx = mol_to_nx(mol)\n",
    "\n",
    "molecule_atom = nx.get_node_attributes(molecule_nx, 'atom_symbol')\n",
    "pos = nx.get_node_attributes(molecule_nx,'pos')\n",
    "print(pos)\n",
    "\n",
    "nx.draw(molecule_nx,\n",
    "        pos,\n",
    "        labels=molecule_atom,\n",
    "        with_labels = True,\n",
    "        node_color='white',\n",
    "        connectionstyle='bar, fraction=0.03', \n",
    "        arrowstyle = '-')\n",
    "\n",
    "#plt.show()\n",
    "\n",
    "# print out the adjacency matrix ---------------------------------------------- \n",
    "matrix = nx.to_numpy_matrix(molecule_nx)\n",
    "print(matrix)"
   ]
  },
  {
   "cell_type": "code",
   "execution_count": 3,
   "metadata": {},
   "outputs": [
    {
     "data": {
      "image/png": "[encoded data removed]",
      "text/plain": [
       "<Figure size 432x288 with 1 Axes>"
      ]
     },
     "metadata": {},
     "output_type": "display_data"
    }
   ],
   "source": [
    "import networkx as nx\n",
    "  \n",
    "G = nx.DiGraph() #directed graph\n",
    "G.add_edge(1,2)\n",
    "G.add_edge(2,1)\n",
    "G.add_edge(2,3)\n",
    "G.add_edge(3,2)\n",
    "G.add_edge(3,4)\n",
    "G.add_edge(4,3)\n",
    "#use bar connectionstyle and replace arrows to allow double edges and make graph look undirected\n",
    "nx.draw(G, with_labels=True, connectionstyle='bar, fraction=0.01', arrowstyle = '-')"
   ]
  },
  {
   "cell_type": "code",
   "execution_count": 4,
   "metadata": {},
   "outputs": [
    {
     "data": {
      "image/png": "[encoded data removed]",
      "text/plain": [
       "<rdkit.Chem.rdchem.Mol at 0x136866220>"
      ]
     },
     "execution_count": 4,
     "metadata": {},
     "output_type": "execute_result"
    }
   ],
   "source": [
    "from rdkit.Chem import AllChem\n",
    "\n",
    "smiles = 'C-C=C-C=C-C'\n",
    "mol = Chem.MolFromSmiles(smiles)\n",
    "mol"
   ]
  },
  {
   "cell_type": "code",
   "execution_count": 5,
   "metadata": {},
   "outputs": [
    {
     "name": "stdout",
     "output_type": "stream",
     "text": [
      "[[-3.26244072 -0.20971541  0.        ]\n",
      " [-1.92701702  0.47339772  0.        ]\n",
      " [-0.66771185 -0.34155656  0.        ]\n",
      " [ 0.66771185  0.34155656  0.        ]\n",
      " [ 1.92701702 -0.47339772  0.        ]\n",
      " [ 3.26244072  0.20971541  0.        ]]\n"
     ]
    },
    {
     "data": {
      "text/plain": [
       "-3.262440719227675"
      ]
     },
     "execution_count": 5,
     "metadata": {},
     "output_type": "execute_result"
    }
   ],
   "source": [
    "AllChem.Compute2DCoords(mol)\n",
    "\n",
    "for c in mol.GetConformers(): #Konformation/ räumliche Anordnung'\n",
    "    print(c.GetPositions())\n",
    "\n",
    "pos = mol.GetConformer().GetAtomPosition(0)\n",
    "pos.x"
   ]
  },
  {
   "cell_type": "code",
   "execution_count": 6,
   "metadata": {},
   "outputs": [
    {
     "data": {
      "text/plain": [
       "{1: (-3.26244072, -0.20971541),\n",
       " 2: (-1.92701702, 0.47339772),\n",
       " 3: (-0.66771185, -0.34155656),\n",
       " 4: (0.66771185, 0.34155656),\n",
       " 5: (1.92701702, -0.47339772),\n",
       " 6: (3.26244072, 0.20971541)}"
      ]
     },
     "execution_count": 6,
     "metadata": {},
     "output_type": "execute_result"
    }
   ],
   "source": [
    "import networkx as nx\n",
    "\n",
    "G=nx.Graph()\n",
    "G.add_node(1,pos=(-3.26244072,-0.20971541))\n",
    "G.add_node(2,pos=(-1.92701702,0.47339772))\n",
    "G.add_node(3,pos=(-0.66771185,-0.34155656))\n",
    "G.add_node(4,pos=(0.66771185,0.34155656))\n",
    "G.add_node(5,pos=(1.92701702,-0.47339772))\n",
    "G.add_node(6,pos=(3.26244072,0.20971541))\n",
    "G.add_edge(1,2)\n",
    "G.add_edge(2,3)\n",
    "G.add_edge(3,4)\n",
    "G.add_edge(4,5)\n",
    "G.add_edge(5,6)\n",
    "\n",
    "pos=nx.get_node_attributes(G,'pos')\n",
    "pos"
   ]
  },
  {
   "cell_type": "code",
   "execution_count": 7,
   "metadata": {},
   "outputs": [
    {
     "data": {
      "image/png": "[encoded data removed]",
      "text/plain": [
       "<Figure size 432x288 with 1 Axes>"
      ]
     },
     "metadata": {},
     "output_type": "display_data"
    }
   ],
   "source": [
    "nx.draw(G,pos)"
   ]
  },
  {
   "cell_type": "code",
   "execution_count": 18,
   "metadata": {},
   "outputs": [
    {
     "name": "stdout",
     "output_type": "stream",
     "text": [
      "[[0, 5, 4, 3, 2, 1], [11, 12, 13, 14, 15, 10]]\n",
      "[0, 5, 4, 3, 2, 1]\n",
      "None\n"
     ]
    }
   ],
   "source": [
    "from rdkit import Chem\n",
    "from rdkit.Chem.Draw import IPythonConsole\n",
    "\n",
    "def GetRingSystems(mol):\n",
    "    ri = mol.GetRingInfo()\n",
    "    systems = []\n",
    "    for ring in ri.AtomRings():\n",
    "        ringAts = []\n",
    "        for atom in ring:\n",
    "            ringAts.append(atom)\n",
    "        systems.append(ringAts)\n",
    "    return systems\n",
    "\n",
    "def getRingForAtom(rings, atomId):\n",
    "    for ring in rings:\n",
    "        if atomId in ring:\n",
    "            return ring\n",
    "\n",
    "mol = Chem.MolFromSmiles('C1=CC=CC=C1C=CC=CC2=CC=CC=C2')\n",
    "rings = GetRingSystems(mol)\n",
    "print(rings)\n",
    "print(getRingForAtom(rings, 4))\n",
    "print(getRingForAtom(rings, 8))"
   ]
  }
 ],
 "metadata": {
  "interpreter": {
   "hash": "3beb2a552853da63de0fdf59b8d6ed9fafca0eec0130e359f95d96845799b06e"
  },
  "kernelspec": {
   "display_name": "Python 3.9.10 ('solitons')",
   "language": "python",
   "name": "python3"
  },
  "language_info": {
   "codemirror_mode": {
    "name": "ipython",
    "version": 3
   },
   "file_extension": ".py",
   "mimetype": "text/x-python",
   "name": "python",
   "nbconvert_exporter": "python",
   "pygments_lexer": "ipython3",
   "version": "3.9.10"
  },
  "orig_nbformat": 4
 },
 "nbformat": 4,
 "nbformat_minor": 2
}
