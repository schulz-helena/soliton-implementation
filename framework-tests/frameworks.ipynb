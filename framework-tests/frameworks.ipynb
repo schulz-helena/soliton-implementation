{
 "cells": [
  {
   "cell_type": "code",
   "execution_count": 1,
   "metadata": {},
   "outputs": [
    {
     "name": "stdout",
     "output_type": "stream",
     "text": [
      "0 , 1 , SINGLE\n",
      "1 , 2 , DOUBLE\n",
      "2 , 3 , SINGLE\n",
      "3 , 4 , DOUBLE\n"
     ]
    }
   ],
   "source": [
    "# import RDKit ----------------------------------------------------------------\n",
    "from rdkit import Chem\n",
    "from rdkit.Chem import Draw\n",
    "\n",
    "# define the smiles string and covert it into a molecule sturcture ------------\n",
    "caffeine_smiles = 'CN1C=NC2=C1C(=O)N(C(=O)N2C)C'\n",
    "test_smiles = 'C-C=C-C=C'\n",
    "\n",
    "#mol = Chem.MolFromSmiles(caffeine_smiles)\n",
    "mol = Chem.MolFromSmiles(test_smiles)\n",
    "\n",
    "# draw the modecule -----------------------------------------------------------\n",
    "#Draw.MolToFile(mol, 'caffeine.png')\n",
    "Draw.MolToFile(mol, 'test.png')\n",
    "for bond in mol.GetBonds():\n",
    "    print(bond.GetBeginAtomIdx(),',',\n",
    "          bond.GetEndAtomIdx(),',',\n",
    "          bond.GetBondType())\n",
    "\n",
    "# draw the molecule with property ---------------------------------------------\n",
    "for i, atom in enumerate(mol.GetAtoms()):\n",
    "    atom.SetProp(\"molAtomMapNumber\", str(atom.GetIdx()))\n",
    "    \n",
    "Draw.MolToFile(mol, 'test_with_prop.png')"
   ]
  },
  {
   "cell_type": "code",
   "execution_count": 2,
   "metadata": {},
   "outputs": [
    {
     "name": "stdout",
     "output_type": "stream",
     "text": [
      "[[0. 1. 0. 0. 0. 0.]\n",
      " [0. 0. 1. 0. 0. 0.]\n",
      " [0. 1. 0. 1. 0. 0.]\n",
      " [0. 0. 0. 0. 1. 0.]\n",
      " [0. 0. 0. 1. 0. 1.]\n",
      " [0. 0. 0. 0. 0. 0.]]\n"
     ]
    },
    {
     "data": {
      "image/png": "[encoded data removed]",
      "text/plain": [
       "<Figure size 432x288 with 1 Axes>"
      ]
     },
     "metadata": {},
     "output_type": "display_data"
    }
   ],
   "source": [
    "# import library --------------------------------------------------------------\n",
    "from rdkit import Chem\n",
    "import networkx as nx\n",
    "import matplotlib.pyplot as plt\n",
    "\n",
    "# define the smiles string and covert it into a molecule sturcture ------------\n",
    "#caffeine_smiles = 'CN1C=NC2=C1C(=O)N(C(=O)N2C)C'\n",
    "smiles = 'C-C=C-C=C-C'\n",
    "mol = Chem.MolFromSmiles(smiles)\n",
    "\n",
    "# define the function for coverting rdkit object to networkx object -----------     \n",
    "def mol_to_nx(mol):\n",
    "    G = nx.DiGraph()\n",
    "\n",
    "    for atom in mol.GetAtoms():\n",
    "        G.add_node(atom.GetIdx(),\n",
    "                   atomic_num=atom.GetAtomicNum(),\n",
    "                   is_aromatic=atom.GetIsAromatic(),\n",
    "                   atom_symbol=atom.GetSymbol())\n",
    "        \n",
    "    for bond in mol.GetBonds():\n",
    "        G.add_edge(bond.GetBeginAtomIdx(),\n",
    "                   bond.GetEndAtomIdx(),\n",
    "                   bond_type=bond.GetBondType())\n",
    "        if (bond.GetBondType() == Chem.BondType.DOUBLE):\n",
    "            G.add_edge(bond.GetEndAtomIdx(),\n",
    "                        bond.GetBeginAtomIdx(),\n",
    "                        bond_type=bond.GetBondType())\n",
    "        \n",
    "    return G\n",
    "\n",
    "# conver rdkit object to networkx object --------------------------------------\n",
    "molecule_nx = mol_to_nx(mol)\n",
    "\n",
    "molecule_atom = nx.get_node_attributes(molecule_nx, 'atom_symbol')\n",
    "    \n",
    "nx.draw_circular(molecule_nx,\n",
    "        labels=molecule_atom,\n",
    "        with_labels = True,\n",
    "        node_color='white',\n",
    "        connectionstyle='bar, fraction=0.03', \n",
    "        arrowstyle = '-') #draw_circular is not ideal, straight line or zigzag would me more appropriate\n",
    "\n",
    "#plt.show()\n",
    "\n",
    "# print out the adjacency matrix ---------------------------------------------- \n",
    "matrix = nx.to_numpy_matrix(molecule_nx)\n",
    "print(matrix)"
   ]
  },
  {
   "cell_type": "code",
   "execution_count": 3,
   "metadata": {},
   "outputs": [
    {
     "data": {
      "image/png": "[encoded data removed]",
      "text/plain": [
       "<Figure size 432x288 with 1 Axes>"
      ]
     },
     "metadata": {},
     "output_type": "display_data"
    }
   ],
   "source": [
    "import networkx as nx\n",
    "  \n",
    "G = nx.DiGraph() #directed graph\n",
    "G.add_edge(1,2)\n",
    "G.add_edge(2,1)\n",
    "G.add_edge(2,3)\n",
    "G.add_edge(3,2)\n",
    "G.add_edge(3,4)\n",
    "G.add_edge(4,3)\n",
    "#use bar connectionstyle and replace arrows to allow double edges and make graph look undirected\n",
    "nx.draw(G, with_labels=True, connectionstyle='bar, fraction=0.01', arrowstyle = '-')"
   ]
  }
 ],
 "metadata": {
  "interpreter": {
   "hash": "3beb2a552853da63de0fdf59b8d6ed9fafca0eec0130e359f95d96845799b06e"
  },
  "kernelspec": {
   "display_name": "Python 3.9.10 ('solitons')",
   "language": "python",
   "name": "python3"
  },
  "language_info": {
   "codemirror_mode": {
    "name": "ipython",
    "version": 3
   },
   "file_extension": ".py",
   "mimetype": "text/x-python",
   "name": "python",
   "nbconvert_exporter": "python",
   "pygments_lexer": "ipython3",
   "version": "3.9.10"
  },
  "orig_nbformat": 4
 },
 "nbformat": 4,
 "nbformat_minor": 2
}
